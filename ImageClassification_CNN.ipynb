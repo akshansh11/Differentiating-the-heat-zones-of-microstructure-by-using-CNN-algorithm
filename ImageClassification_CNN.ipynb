{
  "nbformat": 4,
  "nbformat_minor": 0,
  "metadata": {
    "colab": {
      "name": "ImageClassification_CNN.ipynb",
      "provenance": [],
      "authorship_tag": "ABX9TyMh1OR6YQhV2UuQ0pfj1FBR",
      "include_colab_link": true
    },
    "kernelspec": {
      "name": "python3",
      "display_name": "Python 3"
    },
    "language_info": {
      "name": "python"
    },
    "accelerator": "GPU"
  },
  "cells": [
    {
      "cell_type": "markdown",
      "metadata": {
        "id": "view-in-github",
        "colab_type": "text"
      },
      "source": [
        "<a href=\"https://colab.research.google.com/github/akshansh11/Differentiating-the-heat-zones-of-microstructure-by-using-CNN-algorithm/blob/main/ImageClassification_CNN.ipynb\" target=\"_parent\"><img src=\"https://colab.research.google.com/assets/colab-badge.svg\" alt=\"Open In Colab\"/></a>"
      ]
    },
    {
      "cell_type": "code",
      "metadata": {
        "colab": {
          "base_uri": "https://localhost:8080/"
        },
        "id": "wHCC2hIWxmIL",
        "outputId": "de71ca5e-f919-446d-da11-91f74b9ec12a"
      },
      "source": [
        "!pip install tensorflow-gpu"
      ],
      "execution_count": null,
      "outputs": [
        {
          "output_type": "stream",
          "text": [
            "Requirement already satisfied: tensorflow-gpu in /usr/local/lib/python3.7/dist-packages (2.4.1)\n",
            "Requirement already satisfied: typing-extensions~=3.7.4 in /usr/local/lib/python3.7/dist-packages (from tensorflow-gpu) (3.7.4.3)\n",
            "Requirement already satisfied: gast==0.3.3 in /usr/local/lib/python3.7/dist-packages (from tensorflow-gpu) (0.3.3)\n",
            "Requirement already satisfied: six~=1.15.0 in /usr/local/lib/python3.7/dist-packages (from tensorflow-gpu) (1.15.0)\n",
            "Requirement already satisfied: termcolor~=1.1.0 in /usr/local/lib/python3.7/dist-packages (from tensorflow-gpu) (1.1.0)\n",
            "Requirement already satisfied: h5py~=2.10.0 in /usr/local/lib/python3.7/dist-packages (from tensorflow-gpu) (2.10.0)\n",
            "Requirement already satisfied: astunparse~=1.6.3 in /usr/local/lib/python3.7/dist-packages (from tensorflow-gpu) (1.6.3)\n",
            "Requirement already satisfied: google-pasta~=0.2 in /usr/local/lib/python3.7/dist-packages (from tensorflow-gpu) (0.2.0)\n",
            "Requirement already satisfied: protobuf>=3.9.2 in /usr/local/lib/python3.7/dist-packages (from tensorflow-gpu) (3.12.4)\n",
            "Requirement already satisfied: flatbuffers~=1.12.0 in /usr/local/lib/python3.7/dist-packages (from tensorflow-gpu) (1.12)\n",
            "Requirement already satisfied: keras-preprocessing~=1.1.2 in /usr/local/lib/python3.7/dist-packages (from tensorflow-gpu) (1.1.2)\n",
            "Requirement already satisfied: opt-einsum~=3.3.0 in /usr/local/lib/python3.7/dist-packages (from tensorflow-gpu) (3.3.0)\n",
            "Requirement already satisfied: wrapt~=1.12.1 in /usr/local/lib/python3.7/dist-packages (from tensorflow-gpu) (1.12.1)\n",
            "Requirement already satisfied: tensorboard~=2.4 in /usr/local/lib/python3.7/dist-packages (from tensorflow-gpu) (2.4.1)\n",
            "Requirement already satisfied: tensorflow-estimator<2.5.0,>=2.4.0 in /usr/local/lib/python3.7/dist-packages (from tensorflow-gpu) (2.4.0)\n",
            "Requirement already satisfied: grpcio~=1.32.0 in /usr/local/lib/python3.7/dist-packages (from tensorflow-gpu) (1.32.0)\n",
            "Requirement already satisfied: wheel~=0.35 in /usr/local/lib/python3.7/dist-packages (from tensorflow-gpu) (0.36.2)\n",
            "Requirement already satisfied: absl-py~=0.10 in /usr/local/lib/python3.7/dist-packages (from tensorflow-gpu) (0.12.0)\n",
            "Requirement already satisfied: numpy~=1.19.2 in /usr/local/lib/python3.7/dist-packages (from tensorflow-gpu) (1.19.5)\n",
            "Requirement already satisfied: setuptools in /usr/local/lib/python3.7/dist-packages (from protobuf>=3.9.2->tensorflow-gpu) (56.0.0)\n",
            "Requirement already satisfied: google-auth<2,>=1.6.3 in /usr/local/lib/python3.7/dist-packages (from tensorboard~=2.4->tensorflow-gpu) (1.28.1)\n",
            "Requirement already satisfied: tensorboard-plugin-wit>=1.6.0 in /usr/local/lib/python3.7/dist-packages (from tensorboard~=2.4->tensorflow-gpu) (1.8.0)\n",
            "Requirement already satisfied: werkzeug>=0.11.15 in /usr/local/lib/python3.7/dist-packages (from tensorboard~=2.4->tensorflow-gpu) (1.0.1)\n",
            "Requirement already satisfied: google-auth-oauthlib<0.5,>=0.4.1 in /usr/local/lib/python3.7/dist-packages (from tensorboard~=2.4->tensorflow-gpu) (0.4.4)\n",
            "Requirement already satisfied: markdown>=2.6.8 in /usr/local/lib/python3.7/dist-packages (from tensorboard~=2.4->tensorflow-gpu) (3.3.4)\n",
            "Requirement already satisfied: requests<3,>=2.21.0 in /usr/local/lib/python3.7/dist-packages (from tensorboard~=2.4->tensorflow-gpu) (2.23.0)\n",
            "Requirement already satisfied: pyasn1-modules>=0.2.1 in /usr/local/lib/python3.7/dist-packages (from google-auth<2,>=1.6.3->tensorboard~=2.4->tensorflow-gpu) (0.2.8)\n",
            "Requirement already satisfied: rsa<5,>=3.1.4; python_version >= \"3.6\" in /usr/local/lib/python3.7/dist-packages (from google-auth<2,>=1.6.3->tensorboard~=2.4->tensorflow-gpu) (4.7.2)\n",
            "Requirement already satisfied: cachetools<5.0,>=2.0.0 in /usr/local/lib/python3.7/dist-packages (from google-auth<2,>=1.6.3->tensorboard~=2.4->tensorflow-gpu) (4.2.1)\n",
            "Requirement already satisfied: requests-oauthlib>=0.7.0 in /usr/local/lib/python3.7/dist-packages (from google-auth-oauthlib<0.5,>=0.4.1->tensorboard~=2.4->tensorflow-gpu) (1.3.0)\n",
            "Requirement already satisfied: importlib-metadata; python_version < \"3.8\" in /usr/local/lib/python3.7/dist-packages (from markdown>=2.6.8->tensorboard~=2.4->tensorflow-gpu) (3.10.1)\n",
            "Requirement already satisfied: urllib3!=1.25.0,!=1.25.1,<1.26,>=1.21.1 in /usr/local/lib/python3.7/dist-packages (from requests<3,>=2.21.0->tensorboard~=2.4->tensorflow-gpu) (1.24.3)\n",
            "Requirement already satisfied: chardet<4,>=3.0.2 in /usr/local/lib/python3.7/dist-packages (from requests<3,>=2.21.0->tensorboard~=2.4->tensorflow-gpu) (3.0.4)\n",
            "Requirement already satisfied: certifi>=2017.4.17 in /usr/local/lib/python3.7/dist-packages (from requests<3,>=2.21.0->tensorboard~=2.4->tensorflow-gpu) (2020.12.5)\n",
            "Requirement already satisfied: idna<3,>=2.5 in /usr/local/lib/python3.7/dist-packages (from requests<3,>=2.21.0->tensorboard~=2.4->tensorflow-gpu) (2.10)\n",
            "Requirement already satisfied: pyasn1<0.5.0,>=0.4.6 in /usr/local/lib/python3.7/dist-packages (from pyasn1-modules>=0.2.1->google-auth<2,>=1.6.3->tensorboard~=2.4->tensorflow-gpu) (0.4.8)\n",
            "Requirement already satisfied: oauthlib>=3.0.0 in /usr/local/lib/python3.7/dist-packages (from requests-oauthlib>=0.7.0->google-auth-oauthlib<0.5,>=0.4.1->tensorboard~=2.4->tensorflow-gpu) (3.1.0)\n",
            "Requirement already satisfied: zipp>=0.5 in /usr/local/lib/python3.7/dist-packages (from importlib-metadata; python_version < \"3.8\"->markdown>=2.6.8->tensorboard~=2.4->tensorflow-gpu) (3.4.1)\n"
          ],
          "name": "stdout"
        }
      ]
    },
    {
      "cell_type": "code",
      "metadata": {
        "id": "1Tf7NEenxz5q"
      },
      "source": [
        "import os\n",
        "import numpy as np\n",
        "import matplotlib.pyplot as plt\n",
        "from matplotlib.image import imread\n",
        "data_dir = '/content/drive/MyDrive/Data'\n",
        "test_path = data_dir + '/test/'\n",
        "train_path = data_dir + '/train/'"
      ],
      "execution_count": null,
      "outputs": []
    },
    {
      "cell_type": "code",
      "metadata": {
        "colab": {
          "base_uri": "https://localhost:8080/",
          "height": 35
        },
        "id": "5WVUiC4e4RCl",
        "outputId": "d5f63d84-a172-470b-c6ac-d2f387f56651"
      },
      "source": [
        "test_path"
      ],
      "execution_count": null,
      "outputs": [
        {
          "output_type": "execute_result",
          "data": {
            "application/vnd.google.colaboratory.intrinsic+json": {
              "type": "string"
            },
            "text/plain": [
              "'/content/drive/MyDrive/Data/test/'"
            ]
          },
          "metadata": {
            "tags": []
          },
          "execution_count": 6
        }
      ]
    },
    {
      "cell_type": "code",
      "metadata": {
        "id": "Jh428aZo4UBh"
      },
      "source": [
        "image_shape = (130,130,3)\n",
        "from tensorflow.keras.preprocessing.image import ImageDataGenerator\n",
        "image_gen = ImageDataGenerator(rotation_range = 20,\n",
        "                              width_shift_range = 0.1,\n",
        "                              height_shift_range=0.1,\n",
        "                              shear_range = 0.1,\n",
        "                              zoom_range=0.1,\n",
        "                              horizontal_flip = True,\n",
        "                              fill_mode='nearest')"
      ],
      "execution_count": null,
      "outputs": []
    },
    {
      "cell_type": "code",
      "metadata": {
        "id": "wPQlRCqS4jHI"
      },
      "source": [
        "from tensorflow.keras.models import Sequential\n",
        "from tensorflow.keras.layers import Dense, Conv2D, MaxPool2D, Dropout,Flatten\n",
        "model = Sequential()\n",
        "model.add(Conv2D(filters=32,kernel_size=(3,3),input_shape= image_shape, activation='relu'))\n",
        "model.add(MaxPool2D(pool_size=(2,2)))\n",
        "\n",
        "model.add(Conv2D(filters=64,kernel_size=(3,3),input_shape= image_shape, activation='relu'))\n",
        "model.add(MaxPool2D(pool_size=(2,2)))\n",
        "\n",
        "model.add(Conv2D(filters=64,kernel_size=(3,3),input_shape= image_shape, activation='relu'))\n",
        "model.add(MaxPool2D(pool_size=(2,2)))\n",
        "\n",
        "model.add(Flatten())\n",
        "\n",
        "model.add(Dense(128,activation='relu'))\n",
        "\n",
        "model.add(Dropout(0.5))\n",
        "\n",
        "model.add(Dense(1,activation='sigmoid'))\n",
        "\n",
        "model.compile(loss = 'binary_crossentropy', optimizer= 'adam',\n",
        "             metrics=['accuracy'])"
      ],
      "execution_count": null,
      "outputs": []
    },
    {
      "cell_type": "code",
      "metadata": {
        "colab": {
          "base_uri": "https://localhost:8080/"
        },
        "id": "H-Wsxe1c4mbh",
        "outputId": "fc0e18a9-d3fc-417d-a727-1d1f0985f063"
      },
      "source": [
        "from tensorflow.keras.callbacks import EarlyStopping\n",
        "#early_stop = EarlyStopping(monitor='val_loss',patience=2 )\n",
        "batch_size = 16\n",
        "train_image_gen = image_gen.flow_from_directory(train_path,\n",
        "                                               target_size= image_shape[:2],\n",
        "                                               color_mode='rgb',\n",
        "                                               batch_size = batch_size,\n",
        "                                               class_mode= 'binary')\n",
        "test_image_gen = image_gen.flow_from_directory(test_path,\n",
        "                                               target_size= image_shape[:2],\n",
        "                                               color_mode='rgb',\n",
        "                                               batch_size = batch_size,\n",
        "                                               class_mode= 'binary',\n",
        "                                              shuffle= False)\n",
        "results = model.fit_generator(train_image_gen, epochs=50,\n",
        "                              validation_data= test_image_gen)"
      ],
      "execution_count": null,
      "outputs": [
        {
          "output_type": "stream",
          "text": [
            "Found 2885 images belonging to 2 classes.\n",
            "Found 352 images belonging to 2 classes.\n"
          ],
          "name": "stdout"
        },
        {
          "output_type": "stream",
          "text": [
            "/usr/local/lib/python3.7/dist-packages/tensorflow/python/keras/engine/training.py:1844: UserWarning: `Model.fit_generator` is deprecated and will be removed in a future version. Please use `Model.fit`, which supports generators.\n",
            "  warnings.warn('`Model.fit_generator` is deprecated and '\n"
          ],
          "name": "stderr"
        },
        {
          "output_type": "stream",
          "text": [
            "Epoch 1/50\n",
            "181/181 [==============================] - 901s 5s/step - loss: 2.1443 - accuracy: 0.8118 - val_loss: 0.5207 - val_accuracy: 0.7898\n",
            "Epoch 2/50\n",
            "181/181 [==============================] - 17s 95ms/step - loss: 0.4770 - accuracy: 0.8646 - val_loss: 0.4944 - val_accuracy: 0.7955\n",
            "Epoch 3/50\n",
            "181/181 [==============================] - 17s 94ms/step - loss: 0.8930 - accuracy: 0.8721 - val_loss: 2.1268 - val_accuracy: 0.7955\n",
            "Epoch 4/50\n",
            "181/181 [==============================] - 17s 94ms/step - loss: 0.6972 - accuracy: 0.8764 - val_loss: 0.5008 - val_accuracy: 0.7955\n",
            "Epoch 5/50\n",
            "181/181 [==============================] - 17s 93ms/step - loss: 0.4067 - accuracy: 0.8648 - val_loss: 0.5022 - val_accuracy: 0.7955\n",
            "Epoch 6/50\n",
            "181/181 [==============================] - 17s 94ms/step - loss: 0.3934 - accuracy: 0.8679 - val_loss: 0.5071 - val_accuracy: 0.7955\n",
            "Epoch 7/50\n",
            "181/181 [==============================] - 17s 93ms/step - loss: 0.3913 - accuracy: 0.8649 - val_loss: 0.5075 - val_accuracy: 0.7955\n",
            "Epoch 8/50\n",
            "181/181 [==============================] - 17s 93ms/step - loss: 0.3994 - accuracy: 0.8737 - val_loss: 0.5058 - val_accuracy: 0.7955\n",
            "Epoch 9/50\n",
            "181/181 [==============================] - 17s 94ms/step - loss: 0.5606 - accuracy: 0.8776 - val_loss: 0.5041 - val_accuracy: 0.7955\n",
            "Epoch 10/50\n",
            "181/181 [==============================] - 17s 93ms/step - loss: 0.3712 - accuracy: 0.8771 - val_loss: 0.5068 - val_accuracy: 0.7955\n",
            "Epoch 11/50\n",
            "181/181 [==============================] - 17s 93ms/step - loss: 0.8343 - accuracy: 0.8674 - val_loss: 0.5102 - val_accuracy: 0.7955\n",
            "Epoch 12/50\n",
            "181/181 [==============================] - 17s 93ms/step - loss: 0.6809 - accuracy: 0.8683 - val_loss: 0.5203 - val_accuracy: 0.7955\n",
            "Epoch 13/50\n",
            "181/181 [==============================] - 17s 94ms/step - loss: 0.3844 - accuracy: 0.8738 - val_loss: 36.3586 - val_accuracy: 0.7955\n",
            "Epoch 14/50\n",
            "181/181 [==============================] - 17s 93ms/step - loss: 5.7386 - accuracy: 0.8596 - val_loss: 0.5047 - val_accuracy: 0.7955\n",
            "Epoch 15/50\n",
            "181/181 [==============================] - 17s 93ms/step - loss: 0.4334 - accuracy: 0.8581 - val_loss: 0.5312 - val_accuracy: 0.7955\n",
            "Epoch 16/50\n",
            "181/181 [==============================] - 17s 93ms/step - loss: 0.3855 - accuracy: 0.8677 - val_loss: 0.5268 - val_accuracy: 0.7955\n",
            "Epoch 17/50\n",
            "181/181 [==============================] - 17s 93ms/step - loss: 0.3921 - accuracy: 0.8668 - val_loss: 0.5156 - val_accuracy: 0.7955\n",
            "Epoch 18/50\n",
            "181/181 [==============================] - 17s 94ms/step - loss: 0.3893 - accuracy: 0.8695 - val_loss: 0.5118 - val_accuracy: 0.7955\n",
            "Epoch 19/50\n",
            "181/181 [==============================] - 17s 94ms/step - loss: 0.3919 - accuracy: 0.8631 - val_loss: 0.5301 - val_accuracy: 0.7955\n",
            "Epoch 20/50\n",
            "181/181 [==============================] - 17s 93ms/step - loss: 0.3894 - accuracy: 0.8678 - val_loss: 0.5203 - val_accuracy: 0.7955\n",
            "Epoch 21/50\n",
            "181/181 [==============================] - 17s 94ms/step - loss: 0.3705 - accuracy: 0.8773 - val_loss: 0.5151 - val_accuracy: 0.7955\n",
            "Epoch 22/50\n",
            "181/181 [==============================] - 17s 94ms/step - loss: 0.4042 - accuracy: 0.8593 - val_loss: 0.5208 - val_accuracy: 0.7955\n",
            "Epoch 23/50\n",
            "181/181 [==============================] - 17s 94ms/step - loss: 0.3843 - accuracy: 0.8677 - val_loss: 0.5208 - val_accuracy: 0.7955\n",
            "Epoch 24/50\n",
            "181/181 [==============================] - 17s 95ms/step - loss: 0.3922 - accuracy: 0.8641 - val_loss: 0.5176 - val_accuracy: 0.7955\n",
            "Epoch 25/50\n",
            "181/181 [==============================] - 17s 94ms/step - loss: 0.3870 - accuracy: 0.8664 - val_loss: 0.5236 - val_accuracy: 0.7955\n",
            "Epoch 26/50\n",
            "181/181 [==============================] - 17s 93ms/step - loss: 0.3719 - accuracy: 0.8761 - val_loss: 0.5173 - val_accuracy: 0.7955\n",
            "Epoch 27/50\n",
            "181/181 [==============================] - 17s 94ms/step - loss: 0.3790 - accuracy: 0.8751 - val_loss: 0.5316 - val_accuracy: 0.7955\n",
            "Epoch 28/50\n",
            "181/181 [==============================] - 17s 93ms/step - loss: 0.3945 - accuracy: 0.8651 - val_loss: 0.5181 - val_accuracy: 0.7955\n",
            "Epoch 29/50\n",
            "181/181 [==============================] - 17s 94ms/step - loss: 0.3695 - accuracy: 0.8784 - val_loss: 0.5171 - val_accuracy: 0.7955\n",
            "Epoch 30/50\n",
            "181/181 [==============================] - 17s 93ms/step - loss: 0.3884 - accuracy: 0.8665 - val_loss: 0.5292 - val_accuracy: 0.7955\n",
            "Epoch 31/50\n",
            "181/181 [==============================] - 17s 94ms/step - loss: 0.3769 - accuracy: 0.8719 - val_loss: 0.5221 - val_accuracy: 0.7955\n",
            "Epoch 32/50\n",
            "181/181 [==============================] - 17s 94ms/step - loss: 0.3860 - accuracy: 0.8663 - val_loss: 0.5190 - val_accuracy: 0.7955\n",
            "Epoch 33/50\n",
            "181/181 [==============================] - 17s 95ms/step - loss: 0.3997 - accuracy: 0.8620 - val_loss: 0.5166 - val_accuracy: 0.7955\n",
            "Epoch 34/50\n",
            "181/181 [==============================] - 17s 94ms/step - loss: 0.3849 - accuracy: 0.8682 - val_loss: 0.5253 - val_accuracy: 0.7955\n",
            "Epoch 35/50\n",
            "181/181 [==============================] - 17s 93ms/step - loss: 0.4071 - accuracy: 0.8572 - val_loss: 0.5204 - val_accuracy: 0.7955\n",
            "Epoch 36/50\n",
            "181/181 [==============================] - 17s 94ms/step - loss: 0.3878 - accuracy: 0.8662 - val_loss: 0.5255 - val_accuracy: 0.7955\n",
            "Epoch 37/50\n",
            "181/181 [==============================] - 17s 94ms/step - loss: 0.3716 - accuracy: 0.8755 - val_loss: 0.5189 - val_accuracy: 0.7955\n",
            "Epoch 38/50\n",
            "181/181 [==============================] - 17s 93ms/step - loss: 0.3921 - accuracy: 0.8628 - val_loss: 0.5258 - val_accuracy: 0.7955\n",
            "Epoch 39/50\n",
            "181/181 [==============================] - 17s 93ms/step - loss: 0.6057 - accuracy: 0.8708 - val_loss: 0.5143 - val_accuracy: 0.7955\n",
            "Epoch 40/50\n",
            "181/181 [==============================] - 17s 93ms/step - loss: 0.5779 - accuracy: 0.8773 - val_loss: 0.8089 - val_accuracy: 0.7955\n",
            "Epoch 41/50\n",
            "181/181 [==============================] - 17s 94ms/step - loss: 0.3878 - accuracy: 0.8688 - val_loss: 0.5041 - val_accuracy: 0.7955\n",
            "Epoch 42/50\n",
            "181/181 [==============================] - 17s 94ms/step - loss: 0.3657 - accuracy: 0.8829 - val_loss: 0.5089 - val_accuracy: 0.7955\n",
            "Epoch 43/50\n",
            "181/181 [==============================] - 17s 94ms/step - loss: 0.5444 - accuracy: 0.8674 - val_loss: 0.5080 - val_accuracy: 0.7955\n",
            "Epoch 44/50\n",
            "181/181 [==============================] - 17s 93ms/step - loss: 0.3815 - accuracy: 0.8720 - val_loss: 0.5073 - val_accuracy: 0.7955\n",
            "Epoch 45/50\n",
            "181/181 [==============================] - 17s 94ms/step - loss: 0.4000 - accuracy: 0.8697 - val_loss: 0.5172 - val_accuracy: 0.7955\n",
            "Epoch 46/50\n",
            "181/181 [==============================] - 17s 93ms/step - loss: 0.3977 - accuracy: 0.8612 - val_loss: 0.5111 - val_accuracy: 0.7955\n",
            "Epoch 47/50\n",
            "181/181 [==============================] - 17s 93ms/step - loss: 0.6153 - accuracy: 0.8780 - val_loss: 0.5037 - val_accuracy: 0.7955\n",
            "Epoch 48/50\n",
            "181/181 [==============================] - 17s 93ms/step - loss: 0.4177 - accuracy: 0.8782 - val_loss: 0.5099 - val_accuracy: 0.7955\n",
            "Epoch 49/50\n",
            "181/181 [==============================] - 17s 93ms/step - loss: 0.3804 - accuracy: 0.8753 - val_loss: 0.5124 - val_accuracy: 0.7955\n",
            "Epoch 50/50\n",
            "181/181 [==============================] - 17s 93ms/step - loss: 0.3749 - accuracy: 0.8734 - val_loss: 0.5156 - val_accuracy: 0.7955\n"
          ],
          "name": "stdout"
        }
      ]
    },
    {
      "cell_type": "code",
      "metadata": {
        "colab": {
          "base_uri": "https://localhost:8080/"
        },
        "id": "KfxRp2x84qto",
        "outputId": "8187379d-8f74-4bd0-8fd8-1dd59205abdf"
      },
      "source": [
        "pred = model.predict_generator(test_image_gen)\n",
        "predictions = pred > 0.5\n",
        "from sklearn.metrics import classification_report, confusion_matrix\n",
        "print(classification_report(test_image_gen.classes,predictions))"
      ],
      "execution_count": null,
      "outputs": [
        {
          "output_type": "stream",
          "text": [
            "/usr/local/lib/python3.7/dist-packages/tensorflow/python/keras/engine/training.py:1905: UserWarning: `Model.predict_generator` is deprecated and will be removed in a future version. Please use `Model.predict`, which supports generators.\n",
            "  warnings.warn('`Model.predict_generator` is deprecated and '\n"
          ],
          "name": "stderr"
        },
        {
          "output_type": "stream",
          "text": [
            "              precision    recall  f1-score   support\n",
            "\n",
            "           0       0.17      0.03      0.05        64\n",
            "           1       0.82      0.97      0.89       288\n",
            "\n",
            "    accuracy                           0.80       352\n",
            "   macro avg       0.49      0.50      0.47       352\n",
            "weighted avg       0.70      0.80      0.73       352\n",
            "\n"
          ],
          "name": "stdout"
        }
      ]
    },
    {
      "cell_type": "code",
      "metadata": {
        "id": "c6hXnMyB_jrr"
      },
      "source": [
        ""
      ],
      "execution_count": null,
      "outputs": []
    }
  ]
}
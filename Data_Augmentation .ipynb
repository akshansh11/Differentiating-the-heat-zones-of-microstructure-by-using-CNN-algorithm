{
 "cells": [
  {
   "cell_type": "code",
   "execution_count": 59,
   "metadata": {
    "collapsed": true
   },
   "outputs": [],
   "source": [
    "#Importing libraries\n",
    "import tensorflow as tf\n",
    "from keras.preprocessing.image import ImageDataGenerator\n",
    "from skimage import io\n",
    "from PIL import Image\n",
    "import numpy as np\n",
    "import os\n"
   ]
  },
  {
   "cell_type": "code",
   "execution_count": 60,
   "metadata": {
    "collapsed": true
   },
   "outputs": [],
   "source": [
    "#Chaging the parameters and executing to generate different sets of data\n",
    "\n",
    "datagen = ImageDataGenerator(rotation_range = 10, width_shift_range=0.1,\n",
    "                            height_shift_range=0.1,\n",
    "                            shear_range=0.0,\n",
    "                            zoom_range=0.1,\n",
    "                             brightness_range= [0.1,0.1],\n",
    "                            vertical_flip=True,\n",
    "                             horizontal_flip=False,\n",
    "                            fill_mode='constant',\n",
    "                            cval=0)"
   ]
  },
  {
   "cell_type": "code",
   "execution_count": 61,
   "metadata": {
    "collapsed": true
   },
   "outputs": [],
   "source": [
    "#Setting up the input directory\n",
    "image_directory = 'D:/. IIM Amritsar/Internships/Stir research -ANN Intern/Data/train_5/lessthan80'"
   ]
  },
  {
   "cell_type": "code",
   "execution_count": 62,
   "metadata": {},
   "outputs": [
    {
     "data": {
      "text/plain": [
       "(10, 128, 128, 3)"
      ]
     },
     "execution_count": 62,
     "metadata": {},
     "output_type": "execute_result"
    }
   ],
   "source": [
    "#changing the shape of images\n",
    "Size = 128\n",
    "dataset = []\n",
    "\n",
    "from keras.preprocessing.image import img_to_array, array_to_img\n",
    "my_img = os.listdir(image_directory)\n",
    "for i, image_name in enumerate(my_img):\n",
    "    if(image_name.split('.')[1]=='png'):\n",
    "        image = io.imread(image_directory+'\\\\'+image_name)\n",
    "        image = Image.fromarray(image,'RGB')\n",
    "        image = image.resize((Size,Size))\n",
    "        dataset.append(np.array(image))\n",
    "x = np.array(dataset)\n",
    "x.shape"
   ]
  },
  {
   "cell_type": "code",
   "execution_count": 63,
   "metadata": {
    "collapsed": true
   },
   "outputs": [],
   "source": [
    "import PIL\n",
    "from sklearn.preprocessing import LabelEncoder\n",
    "i = 0\n",
    "for batch in datagen.flow(x, batch_size = 16,\n",
    "                         save_to_dir='D:/. IIM Amritsar/Internships/Stir research -ANN Intern/Data/Data_5/train/lessthan80/',save_prefix = 'aug',save_format='png'):\n",
    "    i+=1\n",
    "    if i>30:\n",
    "        break\n"
   ]
  },
  {
   "cell_type": "code",
   "execution_count": null,
   "metadata": {
    "collapsed": true
   },
   "outputs": [],
   "source": []
  }
 ],
 "metadata": {
  "kernelspec": {
   "display_name": "Python 3",
   "language": "python",
   "name": "python3"
  },
  "language_info": {
   "codemirror_mode": {
    "name": "ipython",
    "version": 3
   },
   "file_extension": ".py",
   "mimetype": "text/x-python",
   "name": "python",
   "nbconvert_exporter": "python",
   "pygments_lexer": "ipython3",
   "version": "3.6.3"
  }
 },
 "nbformat": 4,
 "nbformat_minor": 5
}
